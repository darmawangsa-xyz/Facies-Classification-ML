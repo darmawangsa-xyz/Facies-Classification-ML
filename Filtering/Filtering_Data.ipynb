{
 "cells": [
  {
   "cell_type": "markdown",
   "metadata": {},
   "source": [
    "# Filtering is important to know the most important from the data"
   ]
  },
  {
   "cell_type": "code",
   "execution_count": 1,
   "metadata": {},
   "outputs": [],
   "source": [
    "import numpy as np\n",
    "import pandas as pd\n",
    "import os"
   ]
  },
  {
   "cell_type": "markdown",
   "metadata": {},
   "source": [
    "## Median Filter"
   ]
  },
  {
   "cell_type": "markdown",
   "metadata": {},
   "source": [
    "### Reference: https://gist.github.com/bhawkins/3535131"
   ]
  },
  {
   "cell_type": "code",
   "execution_count": 2,
   "metadata": {},
   "outputs": [],
   "source": [
    "def medfilt (x, k):\n",
    "    \"\"\"Apply a length-k median filter to a 1D array x.\n",
    "    Boundaries are extended by repeating endpoints.\n",
    "    \"\"\"\n",
    "    assert k % 2 == 1, \"Median filter length must be odd.\"\n",
    "    assert x.ndim == 1, \"Input must be one-dimensional.\"\n",
    "    k2 = (k - 1) // 2\n",
    "    y = np.zeros ((len (x), k), dtype=x.dtype)\n",
    "    y[:,k2] = x\n",
    "    for i in range (k2):\n",
    "        j = k2 - i\n",
    "        y[j:,i] = x[:-j]\n",
    "        y[:j,i] = x[0]\n",
    "        y[:-j,-(i+1)] = x[j:]\n",
    "        y[-j:,-(i+1)] = x[-1]\n",
    "    return np.median (y, axis=1)"
   ]
  },
  {
   "cell_type": "markdown",
   "metadata": {},
   "source": [
    "## Despiking"
   ]
  },
  {
   "cell_type": "markdown",
   "metadata": {},
   "source": [
    "### Reference: https://stackoverflow.com/questions/37556487/remove-spikes-from-signal-in-python"
   ]
  },
  {
   "cell_type": "code",
   "execution_count": 3,
   "metadata": {},
   "outputs": [],
   "source": [
    "def despike(yi, th=1.e-8):\n",
    "    '''Remove spike from array yi, the spike area is where the difference between\n",
    "    the neigboring points is higher than th.'''\n",
    "    y = np.copy(yi) # use y = y1 if it is OK to modify input array\n",
    "    n = len(y)\n",
    "    x = np.arange(n)\n",
    "    c = np.argmax(y)\n",
    "    d = abs(np.diff(y))\n",
    "    try:\n",
    "        l = c - 1 - np.where(d[c-1::-1]<th)[0][0]\n",
    "        r = c + np.where(d[c:]<th)[0][0] + 1\n",
    "    except: # no spike, return unaltered array\n",
    "        return y\n",
    "    # for fit, use area twice wider then the spike\n",
    "    if (r-l) <= 3:\n",
    "        l -= 1\n",
    "        r += 1\n",
    "        s = int(round((r-l)/2.))\n",
    "        lx = l - s\n",
    "        rx = r + s\n",
    "        # make a gap at spike area\n",
    "        xgapped = np.concatenate((x[lx:l],x[r:rx]))\n",
    "        ygapped = np.concatenate((y[lx:l],y[r:rx]))\n",
    "        # quadratic fit of the gapped array\n",
    "        z = np.polyfit(xgapped,ygapped,2)\n",
    "        p = np.poly1d(z)\n",
    "        y[l:r] = p(x[l:r])\n",
    "    return y"
   ]
  },
  {
   "cell_type": "markdown",
   "metadata": {},
   "source": [
    "## Clipping, Median Filter, Despike"
   ]
  },
  {
   "cell_type": "code",
   "execution_count": 4,
   "metadata": {},
   "outputs": [],
   "source": [
    "def log_filter(filename, a_min=0, a_max=40, k=7):\n",
    "    result = []\n",
    "    col = ['Clipping', 'Median_Filter', 'Despike']\n",
    "    a = np.loadtxt(filename)\n",
    "    result.append(np.clip(a, a_min, a_max))\n",
    "    result.append(medfilt(a, k))\n",
    "    result.append(despike(a))\n",
    "    df = pd.DataFrame(np.array(result).T, columns=col)\n",
    "    df.to_csv('result/' + os.path.splitext(filename)[0] + '_Filtered.csv', index=False)\n",
    "    return df"
   ]
  },
  {
   "cell_type": "code",
   "execution_count": 5,
   "metadata": {},
   "outputs": [],
   "source": [
    "well_name = ['01_SHRIMPLIN_GR.txt', '02_SHANKLE_GR.txt', '03_LUKE_G_U_GR.txt',\n",
    "             '04_CROSS_H_CATTLE_GR.txt', '05_NOLAN_GR.txt', '06_NEWBY_GR.txt',\n",
    "             '07_CHURCHMAN_BIBLE_GR.txt', '08_Recruit_F9_GR.txt']"
   ]
  },
  {
   "cell_type": "code",
   "execution_count": 6,
   "metadata": {},
   "outputs": [],
   "source": [
    "for i in range(len(well_name)):\n",
    "    log_filter(well_name[i])"
   ]
  },
  {
   "cell_type": "code",
   "execution_count": null,
   "metadata": {},
   "outputs": [],
   "source": []
  }
 ],
 "metadata": {
  "kernelspec": {
   "display_name": "Python 3",
   "language": "python",
   "name": "python3"
  },
  "language_info": {
   "codemirror_mode": {
    "name": "ipython",
    "version": 3
   },
   "file_extension": ".py",
   "mimetype": "text/x-python",
   "name": "python",
   "nbconvert_exporter": "python",
   "pygments_lexer": "ipython3",
   "version": "3.8.3"
  }
 },
 "nbformat": 4,
 "nbformat_minor": 4
}
