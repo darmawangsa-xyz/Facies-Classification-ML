{
 "cells": [
  {
   "cell_type": "code",
   "execution_count": 1,
   "metadata": {},
   "outputs": [],
   "source": [
    "import numpy as np\n",
    "import matplotlib.pyplot as plt \n",
    "import pandas as pd \n",
    "import seaborn as sns\n",
    "import matplotlib.ticker as ticker\n",
    "import matplotlib.colors as colors\n",
    "from mpl_toolkits.axes_grid1 import make_axes_locatable\n",
    "from pandas import set_option"
   ]
  },
  {
   "cell_type": "code",
   "execution_count": 2,
   "metadata": {},
   "outputs": [],
   "source": [
    "# Read Data\n",
    "filename = r'001_Data_TA_7_Well_Process.csv'\n",
    "df = pd.read_csv(filename)"
   ]
  },
  {
   "cell_type": "code",
   "execution_count": 3,
   "metadata": {},
   "outputs": [],
   "source": [
    "# Ubah Spesifikasi Tipe Data\n",
    "df['Formation'] = df['Formation'].astype('category')\n",
    "df['Well Name'] = df['Well Name'].astype('category')"
   ]
  },
  {
   "cell_type": "code",
   "execution_count": 4,
   "metadata": {},
   "outputs": [
    {
     "data": {
      "text/plain": [
       "[SHRIMPLIN, SHANKLE, LUKE G U, CROSS H CATTLE, NOLAN, NEWBY, CHURCHMAN BIBLE]\n",
       "Categories (7, object): [SHRIMPLIN, SHANKLE, LUKE G U, CROSS H CATTLE, NOLAN, NEWBY, CHURCHMAN BIBLE]"
      ]
     },
     "execution_count": 4,
     "metadata": {},
     "output_type": "execute_result"
    }
   ],
   "source": [
    "# Check Jumlah Well\n",
    "df['Well Name'].unique()"
   ]
  },
  {
   "cell_type": "code",
   "execution_count": 5,
   "metadata": {},
   "outputs": [],
   "source": [
    "data = df"
   ]
  },
  {
   "cell_type": "code",
   "execution_count": 6,
   "metadata": {},
   "outputs": [],
   "source": [
    "#Membuat library Labelling pada tiap facies untuk warna dan Label nya\n",
    "\n",
    "facies_colors = ['#F4D03F','#F5B041','#DC7633','#6E2C00','#1B4F72','#2E86C1', '#AED6F1', '#A569BD', '#196F3D']\n",
    "\n",
    "facies_labels = ['SS','CSiS','FSiS','SiSh','MS','WS','D','PS','BS']\n",
    "\n",
    "#facies_color_map adalah kamus untuk memetakan facies labels ke warnanya masing-masing\n",
    "\n",
    "facies_color_map = {}\n",
    "for ind, label in enumerate(facies_labels):\n",
    "    facies_color_map[label] = facies_colors[ind]\n",
    "\n",
    "def label_facies(row, labels):\n",
    "    return labels[ row['Facies'] -1]\n",
    "\n",
    "data.loc[:,'Facies_Labels'] = data.apply(lambda row: label_facies(row, facies_labels), axis=1)"
   ]
  },
  {
   "cell_type": "code",
   "execution_count": 7,
   "metadata": {},
   "outputs": [],
   "source": [
    "# Define Plot Data\n",
    "# Log dan Facies di Tiap Well\n",
    "\n",
    "def plot_log(data, facies_colors):\n",
    "    # Melakukan sorting data log berdasarkan Depth\n",
    "    data = data.sort_values(by=['Depth'])\n",
    "    # cmap_facies used to create colormap objects from a list of colors\n",
    "    cmap_facies = colors.ListedColormap(facies_colors[0:len(facies_colors)],'indexed')\n",
    "    fig,ax = plt.subplots(nrows=1, ncols=7, figsize=(15,12), sharey=True)\n",
    "    \n",
    "    for axes in ax:\n",
    "        axes.invert_yaxis()\n",
    "        axes.get_xaxis().set_visible(False)\n",
    "        \n",
    "        # Plot Log Track 1 = GR Log\n",
    "        try:\n",
    "            ax01=ax[0].twiny()\n",
    "            ax01.set_xlim(0,300) #Batas rentangan log pada sumbu X\n",
    "            ax01.plot(data['GR'], data['Depth'], label='GR [API]', color='green')\n",
    "            ax01.grid(True)\n",
    "        except:\n",
    "            pass\n",
    "        ax01.spines['top'].set_position(('outward',0))\n",
    "        ax01.set_xlabel('GR[API]',color='green')\n",
    "        ax01.tick_params(axis='x', colors='green')\n",
    "        \n",
    "        \n",
    "        # Plot Log Track 2 = ILD\n",
    "        try:\n",
    "            ax11=ax[1].twiny()\n",
    "            ax11.set_xlim(1,30) #Batas rentangan log pada sumbu X\n",
    "            ax11.set_xscale('log') #Rentangan nilai log pada skala logaritmik\n",
    "            ax11.plot(data['ILD'], data['Depth'], label='ILD [ohm.m]', color='red')\n",
    "            ax11.grid(True)\n",
    "        except:\n",
    "            pass\n",
    "        ax11.spines['top'].set_position(('outward',0))\n",
    "        ax11.set_xlabel('ILD[ohm.m]', color='red')\n",
    "        ax11.tick_params(axis='x', colors='red')\n",
    "        \n",
    "        \n",
    "        # Plot Log Track 3 = DeltaPHI, PHIND\n",
    "        try:\n",
    "            ax21=ax[2].twiny()\n",
    "            ax21.set_xlim(-20,40) #Batas rentangan log pada sumbu X\n",
    "            ax21.plot(data['DeltaPHI'], data['Depth'], label='DeltaPHI', color='blue')\n",
    "            ax21.grid(True)\n",
    "        except:\n",
    "            pass\n",
    "        ax21.spines['top'].set_position(('outward',0))\n",
    "        ax21.set_xlabel('DeltaPHI', color='blue')\n",
    "        ax21.tick_params(axis='x', colors='blue')\n",
    "        \n",
    "        try:\n",
    "            ax22=ax[2].twiny()\n",
    "            ax22.set_xlim(-20,40) #Batas rentangan log pada sumbu X\n",
    "            ax22.plot(data['PHIND'], data['Depth'], label='PHIND', color='darkorange')\n",
    "            ax22.grid(True)\n",
    "        except:\n",
    "            pass\n",
    "        ax22.spines['top'].set_position(('outward',40))\n",
    "        ax22.set_xlabel('PHIND', color='darkorange')\n",
    "        ax22.tick_params(axis='x', colors='darkorange')\n",
    "        \n",
    "        # Plot Log Track 4 = PE        \n",
    "        try:\n",
    "            ax31=ax[3].twiny()\n",
    "            ax31.set_xlim(0,10) #Batas rentangan log pada sumbu X\n",
    "            ax31.plot(data['PE'], data['Depth'], label='PE', color='magenta')\n",
    "            ax31.grid(True)\n",
    "        except:\n",
    "            pass\n",
    "        ax31.spines['top'].set_position(('outward',0))\n",
    "        ax31.set_xlabel('PE', color='magenta')\n",
    "        ax31.tick_params(axis='x', colors='magenta')\n",
    "        \n",
    "        \n",
    "        # Plot log Track 5 = RELPOS\n",
    "        try:\n",
    "            ax41=ax[4].twiny()\n",
    "            ax41.set_xlim(0,1) #Batas rentangan log pada sumbu X\n",
    "            ax41.plot(data['RELPOS'], data['Depth'], label='RELPOS', color='blue')\n",
    "            ax41.grid(True)\n",
    "        except:\n",
    "            pass\n",
    "        ax41.spines['top'].set_position(('outward', 0))\n",
    "        ax41.set_xlabel('RELPOS', color='blue')\n",
    "        ax41.tick_params(axis='x', colors='blue')\n",
    "\n",
    "        \n",
    "        # Plot Log Track 5 = Marine / Non-Marine Indicator\n",
    "        try:\n",
    "            ax51=ax[5].twiny()\n",
    "            F = np.vstack((data['NM_M'], data['NM_M'])).T\n",
    "            im = ax51.imshow(F, aspect='auto', extent=[0,1,max(data['Depth']), min(data['Depth'])],cmap=plt.get_cmap('Blues'))\n",
    "            divider = make_axes_locatable(ax51)\n",
    "            cax = divider.append_axes(\"right\", size=0.1, pad=0.05)\n",
    "            cbar=plt.colorbar(im, cax=cax)\n",
    "            cbar.set_label((13*' ').join(['Non Marine                           ','                                 Marine']))\n",
    "            cbar.set_ticks(range(0,1)); cbar.set_ticklabels('')\n",
    "        except:\n",
    "            pass\n",
    "        ax51.spines['top'].set_position(('outward',0))\n",
    "        ax51.set_xlabel('Non-Marine/Marine', color='blue')\n",
    "        ax51.set_xticks([])\n",
    "\n",
    "        #6 track: Facies track\n",
    "        try:            \n",
    "            ax61=ax[6].twiny()\n",
    "            facies_colors = ['#F4D03F', '#F5B041','#DC7633', '#A569BD','#6E2C00','#1B4F72','#2E86C1', '#AED6F1', '#196F3D']\n",
    "            cmap_facies = colors.ListedColormap(facies_colors[0:len(facies_colors)], 'indexed')\n",
    "            F = np.vstack((data['Facies'], data['Facies'])).T\n",
    "            im = ax61.imshow(F, aspect='auto', vmin=1,vmax=9, extent=[0,1,max(data['Depth']), min(data['Depth'])],cmap=cmap_facies)\n",
    "            divider = make_axes_locatable(ax61)\n",
    "            cax = divider.append_axes(\"right\", size=0.1, pad=0.05)\n",
    "            cbar=plt.colorbar(im, cax=cax)\n",
    "            cbar.set_label((15*' ').join([' SS ', 'CSiS', 'FSiS','SiSh', ' MS ', ' WS ', ' D  ', ' PS ', ' BS ']))\n",
    "            cbar.set_ticks(range(0,1)); cbar.set_ticklabels('')\n",
    "\n",
    "        except:\n",
    "            pass\n",
    "        ax61.spines['top'].set_position(('outward',0))\n",
    "        ax61.set_xlabel('Facies', color='black')    \n",
    "        ax61.set_xticks([])\n",
    "        \n",
    "        fig.suptitle('Well: %s'%data.iloc[0]['Well Name'], fontweight='bold', fontsize=15, y=0.99)"
   ]
  },
  {
   "cell_type": "code",
   "execution_count": 8,
   "metadata": {},
   "outputs": [],
   "source": [
    "df1 = data[data['Well Name']=='SHRIMPLIN']\n",
    "df2 = data[data['Well Name']=='SHANKLE']\n",
    "df3 = data[data['Well Name']=='LUKE G U']  \n",
    "df4 = data[data['Well Name']=='CROSS H CATTLE']\n",
    "df5 = data[data['Well Name']=='NOLAN']\n",
    "df6 = data[data['Well Name']=='NEWBY']\n",
    "df7 = data[data['Well Name']=='CHURCHMAN BIBLE']\n",
    "# df8 = data[data['Well Name']=='Recruit F9']"
   ]
  },
  {
   "cell_type": "code",
   "execution_count": 9,
   "metadata": {},
   "outputs": [],
   "source": [
    "data_training = data"
   ]
  },
  {
   "cell_type": "code",
   "execution_count": 10,
   "metadata": {},
   "outputs": [],
   "source": [
    "blind = data_training[data_training['Well Name'] == 'NEWBY']\n",
    "data_training = data_training[data_training['Well Name'] != 'NEWBY']"
   ]
  },
  {
   "cell_type": "code",
   "execution_count": 11,
   "metadata": {},
   "outputs": [
    {
     "data": {
      "text/plain": [
       "[SHRIMPLIN, SHANKLE, LUKE G U, CROSS H CATTLE, NOLAN, CHURCHMAN BIBLE]\n",
       "Categories (6, object): [SHRIMPLIN, SHANKLE, LUKE G U, CROSS H CATTLE, NOLAN, CHURCHMAN BIBLE]"
      ]
     },
     "execution_count": 11,
     "metadata": {},
     "output_type": "execute_result"
    }
   ],
   "source": [
    "data_training['Well Name'].unique()"
   ]
  },
  {
   "cell_type": "code",
   "execution_count": 12,
   "metadata": {},
   "outputs": [
    {
     "data": {
      "text/plain": [
       "[NEWBY]\n",
       "Categories (1, object): [NEWBY]"
      ]
     },
     "execution_count": 12,
     "metadata": {},
     "output_type": "execute_result"
    }
   ],
   "source": [
    "blind['Well Name'].unique()"
   ]
  },
  {
   "cell_type": "code",
   "execution_count": 13,
   "metadata": {},
   "outputs": [],
   "source": [
    "# Data Input\n",
    "X = data_training[['ILD', 'DeltaPHI', 'PHIND', 'PE', 'NM_M',\n",
    "                  '3_GR',\n",
    "                  '2_ILD',\n",
    "                  '3_PHIND']]\n",
    "\n",
    "# Data Output\n",
    "Y = data_training['Facies']"
   ]
  },
  {
   "cell_type": "code",
   "execution_count": 14,
   "metadata": {},
   "outputs": [
    {
     "data": {
      "text/html": [
       "<div>\n",
       "<style scoped>\n",
       "    .dataframe tbody tr th:only-of-type {\n",
       "        vertical-align: middle;\n",
       "    }\n",
       "\n",
       "    .dataframe tbody tr th {\n",
       "        vertical-align: top;\n",
       "    }\n",
       "\n",
       "    .dataframe thead th {\n",
       "        text-align: right;\n",
       "    }\n",
       "</style>\n",
       "<table border=\"1\" class=\"dataframe\">\n",
       "  <thead>\n",
       "    <tr style=\"text-align: right;\">\n",
       "      <th></th>\n",
       "      <th>ILD</th>\n",
       "      <th>DeltaPHI</th>\n",
       "      <th>PHIND</th>\n",
       "      <th>PE</th>\n",
       "      <th>NM_M</th>\n",
       "      <th>3_GR</th>\n",
       "      <th>2_ILD</th>\n",
       "      <th>3_PHIND</th>\n",
       "    </tr>\n",
       "  </thead>\n",
       "  <tbody>\n",
       "    <tr>\n",
       "      <th>count</th>\n",
       "      <td>2701.000000</td>\n",
       "      <td>2701.000000</td>\n",
       "      <td>2701.000000</td>\n",
       "      <td>2701.000000</td>\n",
       "      <td>2701.000000</td>\n",
       "      <td>2701.000000</td>\n",
       "      <td>2701.000000</td>\n",
       "      <td>2701.000000</td>\n",
       "    </tr>\n",
       "    <tr>\n",
       "      <th>mean</th>\n",
       "      <td>5.142529</td>\n",
       "      <td>3.627093</td>\n",
       "      <td>13.809228</td>\n",
       "      <td>3.673312</td>\n",
       "      <td>1.465753</td>\n",
       "      <td>0.131469</td>\n",
       "      <td>2.175420</td>\n",
       "      <td>0.300094</td>\n",
       "    </tr>\n",
       "    <tr>\n",
       "      <th>std</th>\n",
       "      <td>3.208016</td>\n",
       "      <td>5.321436</td>\n",
       "      <td>8.079242</td>\n",
       "      <td>0.904113</td>\n",
       "      <td>0.498918</td>\n",
       "      <td>0.033296</td>\n",
       "      <td>0.640491</td>\n",
       "      <td>0.085228</td>\n",
       "    </tr>\n",
       "    <tr>\n",
       "      <th>min</th>\n",
       "      <td>0.942000</td>\n",
       "      <td>-21.832000</td>\n",
       "      <td>0.550000</td>\n",
       "      <td>0.200000</td>\n",
       "      <td>1.000000</td>\n",
       "      <td>0.081650</td>\n",
       "      <td>0.970567</td>\n",
       "      <td>0.108850</td>\n",
       "    </tr>\n",
       "    <tr>\n",
       "      <th>25%</th>\n",
       "      <td>3.026913</td>\n",
       "      <td>1.300000</td>\n",
       "      <td>8.404000</td>\n",
       "      <td>3.064000</td>\n",
       "      <td>1.000000</td>\n",
       "      <td>0.111154</td>\n",
       "      <td>1.739803</td>\n",
       "      <td>0.244375</td>\n",
       "    </tr>\n",
       "    <tr>\n",
       "      <th>50%</th>\n",
       "      <td>4.186000</td>\n",
       "      <td>3.600000</td>\n",
       "      <td>12.320000</td>\n",
       "      <td>3.500000</td>\n",
       "      <td>1.000000</td>\n",
       "      <td>0.121734</td>\n",
       "      <td>2.045972</td>\n",
       "      <td>0.284901</td>\n",
       "    </tr>\n",
       "    <tr>\n",
       "      <th>75%</th>\n",
       "      <td>6.606934</td>\n",
       "      <td>6.500000</td>\n",
       "      <td>16.745000</td>\n",
       "      <td>4.300000</td>\n",
       "      <td>2.000000</td>\n",
       "      <td>0.141554</td>\n",
       "      <td>2.570396</td>\n",
       "      <td>0.344951</td>\n",
       "    </tr>\n",
       "    <tr>\n",
       "      <th>max</th>\n",
       "      <td>30.199517</td>\n",
       "      <td>18.600000</td>\n",
       "      <td>84.400000</td>\n",
       "      <td>8.094000</td>\n",
       "      <td>2.000000</td>\n",
       "      <td>0.274721</td>\n",
       "      <td>5.495409</td>\n",
       "      <td>1.348400</td>\n",
       "    </tr>\n",
       "  </tbody>\n",
       "</table>\n",
       "</div>"
      ],
      "text/plain": [
       "               ILD     DeltaPHI        PHIND           PE         NM_M  \\\n",
       "count  2701.000000  2701.000000  2701.000000  2701.000000  2701.000000   \n",
       "mean      5.142529     3.627093    13.809228     3.673312     1.465753   \n",
       "std       3.208016     5.321436     8.079242     0.904113     0.498918   \n",
       "min       0.942000   -21.832000     0.550000     0.200000     1.000000   \n",
       "25%       3.026913     1.300000     8.404000     3.064000     1.000000   \n",
       "50%       4.186000     3.600000    12.320000     3.500000     1.000000   \n",
       "75%       6.606934     6.500000    16.745000     4.300000     2.000000   \n",
       "max      30.199517    18.600000    84.400000     8.094000     2.000000   \n",
       "\n",
       "              3_GR        2_ILD      3_PHIND  \n",
       "count  2701.000000  2701.000000  2701.000000  \n",
       "mean      0.131469     2.175420     0.300094  \n",
       "std       0.033296     0.640491     0.085228  \n",
       "min       0.081650     0.970567     0.108850  \n",
       "25%       0.111154     1.739803     0.244375  \n",
       "50%       0.121734     2.045972     0.284901  \n",
       "75%       0.141554     2.570396     0.344951  \n",
       "max       0.274721     5.495409     1.348400  "
      ]
     },
     "execution_count": 14,
     "metadata": {},
     "output_type": "execute_result"
    }
   ],
   "source": [
    "X.describe()"
   ]
  },
  {
   "cell_type": "code",
   "execution_count": 15,
   "metadata": {},
   "outputs": [],
   "source": [
    "from sklearn.impute import SimpleImputer\n",
    "\n",
    "imp = SimpleImputer(missing_values=np.nan, strategy='mean')\n",
    "scaled_X = imp.fit_transform(X)"
   ]
  },
  {
   "cell_type": "code",
   "execution_count": 16,
   "metadata": {},
   "outputs": [],
   "source": [
    "from sklearn.preprocessing import StandardScaler\n",
    "\n",
    "# Menskalakan ke variansi (Standardisation)\n",
    "sc = StandardScaler()\n",
    "scaled_X = sc.fit_transform(X)"
   ]
  },
  {
   "cell_type": "code",
   "execution_count": 17,
   "metadata": {},
   "outputs": [],
   "source": [
    "# from sklearn.preprocessing import MinMaxScaler\n",
    "\n",
    "# # Menskalakan nilai data ke dalam suatu range (Normalisation)\n",
    "# mc = MinMaxScaler(feature_range=(0, 1))\n",
    "# scaled_X = mc.fit_transform(X)"
   ]
  },
  {
   "cell_type": "code",
   "execution_count": 18,
   "metadata": {},
   "outputs": [
    {
     "data": {
      "text/html": [
       "<div>\n",
       "<style scoped>\n",
       "    .dataframe tbody tr th:only-of-type {\n",
       "        vertical-align: middle;\n",
       "    }\n",
       "\n",
       "    .dataframe tbody tr th {\n",
       "        vertical-align: top;\n",
       "    }\n",
       "\n",
       "    .dataframe thead th {\n",
       "        text-align: right;\n",
       "    }\n",
       "</style>\n",
       "<table border=\"1\" class=\"dataframe\">\n",
       "  <thead>\n",
       "    <tr style=\"text-align: right;\">\n",
       "      <th></th>\n",
       "      <th>ILD</th>\n",
       "      <th>DeltaPHI</th>\n",
       "      <th>PHIND</th>\n",
       "      <th>PE</th>\n",
       "      <th>NM_M</th>\n",
       "      <th>3_GR</th>\n",
       "      <th>2_ILD</th>\n",
       "      <th>3_PHIND</th>\n",
       "    </tr>\n",
       "  </thead>\n",
       "  <tbody>\n",
       "    <tr>\n",
       "      <th>count</th>\n",
       "      <td>2.701000e+03</td>\n",
       "      <td>2.701000e+03</td>\n",
       "      <td>2.701000e+03</td>\n",
       "      <td>2.701000e+03</td>\n",
       "      <td>2.701000e+03</td>\n",
       "      <td>2.701000e+03</td>\n",
       "      <td>2.701000e+03</td>\n",
       "      <td>2.701000e+03</td>\n",
       "    </tr>\n",
       "    <tr>\n",
       "      <th>mean</th>\n",
       "      <td>1.192020e-16</td>\n",
       "      <td>-2.845537e-16</td>\n",
       "      <td>3.224209e-16</td>\n",
       "      <td>4.144942e-16</td>\n",
       "      <td>-7.548366e-16</td>\n",
       "      <td>-2.581135e-16</td>\n",
       "      <td>-3.888452e-17</td>\n",
       "      <td>-1.894901e-16</td>\n",
       "    </tr>\n",
       "    <tr>\n",
       "      <th>std</th>\n",
       "      <td>1.000185e+00</td>\n",
       "      <td>1.000185e+00</td>\n",
       "      <td>1.000185e+00</td>\n",
       "      <td>1.000185e+00</td>\n",
       "      <td>1.000185e+00</td>\n",
       "      <td>1.000185e+00</td>\n",
       "      <td>1.000185e+00</td>\n",
       "      <td>1.000185e+00</td>\n",
       "    </tr>\n",
       "    <tr>\n",
       "      <th>min</th>\n",
       "      <td>-1.309628e+00</td>\n",
       "      <td>-4.785138e+00</td>\n",
       "      <td>-1.641451e+00</td>\n",
       "      <td>-3.842391e+00</td>\n",
       "      <td>-9.336996e-01</td>\n",
       "      <td>-1.496532e+00</td>\n",
       "      <td>-1.881488e+00</td>\n",
       "      <td>-2.244324e+00</td>\n",
       "    </tr>\n",
       "    <tr>\n",
       "      <th>25%</th>\n",
       "      <td>-6.596000e-01</td>\n",
       "      <td>-4.373865e-01</td>\n",
       "      <td>-6.691505e-01</td>\n",
       "      <td>-6.740582e-01</td>\n",
       "      <td>-9.336996e-01</td>\n",
       "      <td>-6.102540e-01</td>\n",
       "      <td>-6.802562e-01</td>\n",
       "      <td>-6.538815e-01</td>\n",
       "    </tr>\n",
       "    <tr>\n",
       "      <th>50%</th>\n",
       "      <td>-2.982236e-01</td>\n",
       "      <td>-5.092294e-03</td>\n",
       "      <td>-1.843619e-01</td>\n",
       "      <td>-1.917281e-01</td>\n",
       "      <td>-9.336996e-01</td>\n",
       "      <td>-2.924239e-01</td>\n",
       "      <td>-2.021454e-01</td>\n",
       "      <td>-1.782921e-01</td>\n",
       "    </tr>\n",
       "    <tr>\n",
       "      <th>75%</th>\n",
       "      <td>4.565678e-01</td>\n",
       "      <td>5.399743e-01</td>\n",
       "      <td>3.634394e-01</td>\n",
       "      <td>6.932811e-01</td>\n",
       "      <td>1.071008e+00</td>\n",
       "      <td>3.029635e-01</td>\n",
       "      <td>6.167908e-01</td>\n",
       "      <td>5.264091e-01</td>\n",
       "    </tr>\n",
       "    <tr>\n",
       "      <th>max</th>\n",
       "      <td>7.812190e+00</td>\n",
       "      <td>2.814218e+00</td>\n",
       "      <td>8.738919e+00</td>\n",
       "      <td>4.890438e+00</td>\n",
       "      <td>1.071008e+00</td>\n",
       "      <td>4.303188e+00</td>\n",
       "      <td>5.184466e+00</td>\n",
       "      <td>1.230228e+01</td>\n",
       "    </tr>\n",
       "  </tbody>\n",
       "</table>\n",
       "</div>"
      ],
      "text/plain": [
       "                ILD      DeltaPHI         PHIND            PE          NM_M  \\\n",
       "count  2.701000e+03  2.701000e+03  2.701000e+03  2.701000e+03  2.701000e+03   \n",
       "mean   1.192020e-16 -2.845537e-16  3.224209e-16  4.144942e-16 -7.548366e-16   \n",
       "std    1.000185e+00  1.000185e+00  1.000185e+00  1.000185e+00  1.000185e+00   \n",
       "min   -1.309628e+00 -4.785138e+00 -1.641451e+00 -3.842391e+00 -9.336996e-01   \n",
       "25%   -6.596000e-01 -4.373865e-01 -6.691505e-01 -6.740582e-01 -9.336996e-01   \n",
       "50%   -2.982236e-01 -5.092294e-03 -1.843619e-01 -1.917281e-01 -9.336996e-01   \n",
       "75%    4.565678e-01  5.399743e-01  3.634394e-01  6.932811e-01  1.071008e+00   \n",
       "max    7.812190e+00  2.814218e+00  8.738919e+00  4.890438e+00  1.071008e+00   \n",
       "\n",
       "               3_GR         2_ILD       3_PHIND  \n",
       "count  2.701000e+03  2.701000e+03  2.701000e+03  \n",
       "mean  -2.581135e-16 -3.888452e-17 -1.894901e-16  \n",
       "std    1.000185e+00  1.000185e+00  1.000185e+00  \n",
       "min   -1.496532e+00 -1.881488e+00 -2.244324e+00  \n",
       "25%   -6.102540e-01 -6.802562e-01 -6.538815e-01  \n",
       "50%   -2.924239e-01 -2.021454e-01 -1.782921e-01  \n",
       "75%    3.029635e-01  6.167908e-01  5.264091e-01  \n",
       "max    4.303188e+00  5.184466e+00  1.230228e+01  "
      ]
     },
     "execution_count": 18,
     "metadata": {},
     "output_type": "execute_result"
    }
   ],
   "source": [
    "scaled_X = pd.DataFrame(scaled_X, columns=X.columns)\n",
    "scaled_X.describe()"
   ]
  },
  {
   "cell_type": "code",
   "execution_count": 19,
   "metadata": {},
   "outputs": [],
   "source": [
    "# Train Test Split Data\n",
    "\n",
    "from sklearn.model_selection import train_test_split\n",
    "\n",
    "X_train, X_test, y_train, y_test = train_test_split(\n",
    "    scaled_X, Y, test_size=0.2, random_state=0)"
   ]
  },
  {
   "cell_type": "code",
   "execution_count": 20,
   "metadata": {},
   "outputs": [],
   "source": [
    "from sklearn.neighbors import KNeighborsClassifier\n",
    "from sklearn.ensemble import RandomForestClassifier\n",
    "from sklearn.svm import SVC"
   ]
  },
  {
   "cell_type": "code",
   "execution_count": 21,
   "metadata": {},
   "outputs": [],
   "source": [
    "# define Classifiers\n",
    "knn = KNeighborsClassifier()\n",
    "rtree = RandomForestClassifier()\n",
    "svm = SVC()"
   ]
  },
  {
   "cell_type": "code",
   "execution_count": 22,
   "metadata": {},
   "outputs": [],
   "source": [
    "from numpy import mean\n",
    "from sklearn.pipeline import Pipeline\n",
    "from sklearn.model_selection import RepeatedStratifiedKFold\n",
    "from sklearn.model_selection import cross_val_score\n",
    "\n",
    "# define a function that uses pipeline to impelement data transformation and fit with model then cross validate\n",
    "def baseline_model(model_name):\n",
    "\n",
    "    model = model_name\n",
    "    steps = list()\n",
    "    steps.append(('ss', StandardScaler() ))\n",
    "    steps.append(('ml', model))\n",
    "    pipeline = Pipeline(steps=steps)\n",
    "\n",
    "    cv = RepeatedStratifiedKFold(n_splits=10, n_repeats=3, random_state=0)\n",
    "     \n",
    "    # Cross Validation Score of Model\n",
    "    scores = cross_val_score(pipeline, scaled_X, Y, scoring='accuracy', cv=cv, n_jobs=-1)\n",
    "\n",
    "\n",
    "    print(model,'Accuracy: %.3f' % (mean(scores)))"
   ]
  },
  {
   "cell_type": "code",
   "execution_count": 23,
   "metadata": {},
   "outputs": [
    {
     "name": "stdout",
     "output_type": "stream",
     "text": [
      "KNeighborsClassifier() Accuracy: 0.670\n",
      "RandomForestClassifier() Accuracy: 0.699\n",
      "SVC() Accuracy: 0.611\n"
     ]
    }
   ],
   "source": [
    "baseline_model(knn)\n",
    "baseline_model(rtree)\n",
    "baseline_model(svm)"
   ]
  },
  {
   "cell_type": "code",
   "execution_count": 24,
   "metadata": {},
   "outputs": [],
   "source": [
    "from sklearn.model_selection import GridSearchCV"
   ]
  },
  {
   "cell_type": "code",
   "execution_count": 25,
   "metadata": {},
   "outputs": [],
   "source": [
    "# %%time\n",
    "# #kNN classifier\n",
    "\n",
    "# #define hyper parameters and ranges\n",
    "# param_grid_knn = [{'n_neighbors': [2, 3, 4, 5, 6, 7, 8, 9, 10],\n",
    "#                    'weights': [ 'uniform', 'distance']}]\n",
    "\n",
    "# #apply gridsearch\n",
    "# grid_knn  = GridSearchCV(knn, param_grid=param_grid_knn, cv=5)\n",
    "# #fit model with grid search\n",
    "# grid_knn.fit(X_train, y_train)\n",
    "# print('The best parameters for knn classifier: ', grid_knn.best_params_)"
   ]
  },
  {
   "cell_type": "code",
   "execution_count": 26,
   "metadata": {},
   "outputs": [],
   "source": [
    "# %%time\n",
    "# #random forest classifier\n",
    "\n",
    "# #define hyper parameters and ranges\n",
    "# param_grid_rtree = [{'n_estimators': [5, 10, 50, 100, 250, 500],\n",
    "#                      'max_depth': [5, 10, 15, 20, 25, 30],\n",
    "#                      'criterion': ['gini',  'entropy']}]\n",
    "# #apply gridsearch\n",
    "# grid_rtree  = GridSearchCV(rtree, param_grid=param_grid_rtree, cv=5)\n",
    "# #fit model with grid search\n",
    "# grid_rtree.fit(X_train, y_train)\n",
    "# print('The best parameters for rtree classifier: ', grid_rtree.best_params_)"
   ]
  },
  {
   "cell_type": "code",
   "execution_count": 27,
   "metadata": {},
   "outputs": [],
   "source": [
    "# %%time\n",
    "# #SVM classifier\n",
    "\n",
    "# #define hyper parameters and ranges\n",
    "# param_grid_svm = [{'C': [0.1, 1, 10, 100, 1000],\n",
    "#                    'gamma': [1, 0.1, 0.01, 0.001, 0.0001], \n",
    "#                    'kernel': ['rbf']}]\n",
    "# #apply gridsearch\n",
    "# grid_svm  = GridSearchCV(svm, param_grid=param_grid_svm, cv=5)\n",
    "# #fit model with grid search\n",
    "# grid_svm.fit(X_train, y_train)\n",
    "# print('The best parameters for svm classifier: ', grid_svm.best_params_)"
   ]
  },
  {
   "cell_type": "code",
   "execution_count": 28,
   "metadata": {},
   "outputs": [],
   "source": [
    "# define Classifiers with hyper params\n",
    "\n",
    "knn_hp = KNeighborsClassifier(n_neighbors=10, weights='distance')\n",
    "rtree_hp = RandomForestClassifier(criterion='gini', max_depth=15, n_estimators=500)\n",
    "svm_hp = SVC(C=10, gamma=1, kernel='rbf')"
   ]
  },
  {
   "cell_type": "code",
   "execution_count": 29,
   "metadata": {},
   "outputs": [
    {
     "name": "stdout",
     "output_type": "stream",
     "text": [
      "KNeighborsClassifier(n_neighbors=10, weights='distance') Accuracy: 0.680\n",
      "RandomForestClassifier(max_depth=15, n_estimators=500) Accuracy: 0.697\n",
      "SVC(C=10, gamma=1) Accuracy: 0.689\n",
      "Wall time: 2min\n"
     ]
    }
   ],
   "source": [
    "%%time\n",
    "baseline_model(knn_hp)\n",
    "baseline_model(rtree_hp)\n",
    "baseline_model(svm_hp)"
   ]
  },
  {
   "cell_type": "code",
   "execution_count": 30,
   "metadata": {},
   "outputs": [],
   "source": [
    "# #create dataframe to compare accuracy results\n",
    "# dd = { 'model':['knn', 'rtree', 'svm'],\n",
    "#       'Baseline_model':[0.661, 0.711, 0.601],\n",
    "#       'Hyper_pram_model': [0.698, 0.712, 0.650]}\n",
    "\n",
    "# df_comp = pd.DataFrame(dd) \n",
    "# round(df_comp,3)"
   ]
  },
  {
   "cell_type": "code",
   "execution_count": 31,
   "metadata": {},
   "outputs": [],
   "source": [
    "# define Classifiers with hyper params\n",
    "\n",
    "knn = KNeighborsClassifier(n_neighbors=10, weights='distance')\n",
    "rtree = RandomForestClassifier(criterion='gini', max_depth=15, n_estimators=500)\n",
    "svm = SVC(C=10, gamma=1, kernel='rbf')"
   ]
  },
  {
   "cell_type": "code",
   "execution_count": 32,
   "metadata": {},
   "outputs": [],
   "source": [
    "from sklearn.metrics import classification_report\n",
    "from sklearn.model_selection import KFold\n",
    "from sklearn.model_selection import cross_validate\n",
    "from sklearn.metrics import precision_recall_fscore_support\n",
    "\n",
    "models = []\n",
    "models.append(('knn', knn))\n",
    "models.append(('rtree', rtree))\n",
    "models.append(('svm', svm))\n",
    "results = []\n",
    "names = []\n",
    "scoring =  ['accuracy', 'precision_macro', 'recall_macro', 'f1_macro']\n",
    "for name, model in models:\n",
    "    cv = KFold(n_splits=10, shuffle=True , random_state=0)\n",
    "    cv_results = cross_validate(model, scaled_X, Y, cv=cv, scoring=scoring)\n",
    "    results.append(cv_results)\n",
    "    names.append(name)\n",
    "    results.append(name)"
   ]
  },
  {
   "cell_type": "code",
   "execution_count": 33,
   "metadata": {},
   "outputs": [],
   "source": [
    "results =  results[::2]"
   ]
  },
  {
   "cell_type": "code",
   "execution_count": 34,
   "metadata": {},
   "outputs": [],
   "source": [
    "test_acc = []\n",
    "for i in range (len(names)):\n",
    "    test_acc.append(results[i]['test_accuracy'].mean())\n",
    "    \n",
    "test_f1 = []\n",
    "for i in range (len(names)):\n",
    "    test_f1.append(results[i]['test_f1_macro'].mean())  \n",
    "    \n",
    "test_pre = []\n",
    "for i in range (len(names)):\n",
    "    test_pre.append(results[i]['test_precision_macro'].mean())\n",
    "\n",
    "test_rec = []\n",
    "for i in range (len(names)):\n",
    "    test_rec.append(results[i]['test_recall_macro'].mean())"
   ]
  },
  {
   "cell_type": "code",
   "execution_count": 35,
   "metadata": {},
   "outputs": [
    {
     "data": {
      "image/png": "[encoded data removed]",
      "text/plain": [
       "<Figure size 864x216 with 1 Axes>"
      ]
     },
     "metadata": {
      "needs_background": "light"
     },
     "output_type": "display_data"
    }
   ],
   "source": [
    "category_names = names\n",
    "result_data = {\"accuracy_score\": test_acc, 'f1score':    test_f1, 'precision': test_pre, 'recall':    test_rec,  }\n",
    "\n",
    "def survey(result_data, category_names):\n",
    "    \n",
    "    labels = list(result_data.keys())\n",
    "    data = np.array(list(result_data.values()))\n",
    "    data_cum = data.cumsum(axis=1)\n",
    "    category_colors = plt.get_cmap('RdYlGn')(\n",
    "        np.linspace(0, 1, data.shape[1]))\n",
    "\n",
    "    fig, ax = plt.subplots(figsize=(12, 3))\n",
    "    ax.invert_yaxis()\n",
    "    ax.xaxis.set_visible(False)\n",
    "    ax.set_xlim(0, np.sum(data, axis=1).max())\n",
    "   \n",
    "\n",
    "    for i, (colname, color) in enumerate(zip(category_names, category_colors)):\n",
    "        widths = data[:, i]\n",
    "        starts = data_cum[:, i] - widths\n",
    "        ax.barh(labels, widths, left=starts, height=0.7,\n",
    "                label=colname, color=color)\n",
    "        xcenters = starts + widths / 2\n",
    "\n",
    "        r, g, b, _ = color\n",
    "        text_color =  'k'\n",
    "        for y, (x, c) in enumerate(zip(xcenters, widths)):\n",
    "            ax.text(x, y, str(np.around(c,decimals = 2)), ha='center', va='center',\n",
    "                    color=text_color)\n",
    "    ax.legend(ncol=len(category_names), bbox_to_anchor=(0, -0.22),\n",
    "              loc='lower left', fontsize='large')\n",
    "    ax.set_title('Diffrent Metrics Average', loc='center')\n",
    "    fig.savefig('fname_macro2', dpi=300)\n",
    "    return fig, ax\n",
    "\n",
    "\n",
    "survey(result_data, category_names)\n",
    "plt.savefig('skenario_5_accuracy.png', dpi=300)\n",
    "plt.show()"
   ]
  },
  {
   "cell_type": "code",
   "execution_count": 36,
   "metadata": {},
   "outputs": [],
   "source": [
    "from itertools import cycle\n",
    "from sklearn import svm, datasets\n",
    "from sklearn.metrics import roc_curve, auc\n",
    "from sklearn.preprocessing import label_binarize\n",
    "from sklearn.multiclass import OneVsRestClassifier\n",
    "from scipy import interp\n",
    "from sklearn.metrics import roc_auc_score\n",
    "from sklearn.model_selection import learning_curve\n",
    "from sklearn.model_selection import ShuffleSplit"
   ]
  },
  {
   "cell_type": "code",
   "execution_count": 37,
   "metadata": {},
   "outputs": [],
   "source": [
    "def plot_learning_curve(estimator, title, X, y, axes=None, ylim=None, cv=None,\n",
    "                        n_jobs=None, train_sizes=np.linspace(.1, 1.0, 10)):\n",
    "    \n",
    "    if axes is None:\n",
    "        _, axes = plt.subplots(1, 3, figsize=(20, 5))\n",
    "\n",
    "    axes[0].set_title(title)\n",
    "    if ylim is not None:\n",
    "        axes[0].set_ylim(*ylim)\n",
    "    axes[0].set_xlabel(\"Training examples\")\n",
    "    axes[0].set_ylabel(\"Score\")\n",
    "\n",
    "    train_sizes, train_scores, test_scores, fit_times, _ = \\\n",
    "        learning_curve(estimator, X, y, cv=cv, n_jobs=n_jobs,\n",
    "                       train_sizes=train_sizes,\n",
    "                       return_times=True)\n",
    "    train_scores_mean = np.mean(train_scores, axis=1)\n",
    "    train_scores_std = np.std(train_scores, axis=1)\n",
    "    test_scores_mean = np.mean(test_scores, axis=1)\n",
    "    test_scores_std = np.std(test_scores, axis=1)\n",
    "    fit_times_mean = np.mean(fit_times, axis=1)\n",
    "    fit_times_std = np.std(fit_times, axis=1)\n",
    "\n",
    "    # Plot learning curve\n",
    "    axes[0].grid()\n",
    "    axes[0].fill_between(train_sizes, train_scores_mean - train_scores_std,\n",
    "                         train_scores_mean + train_scores_std, alpha=0.1,\n",
    "                         color=\"r\")\n",
    "    axes[0].fill_between(train_sizes, test_scores_mean - test_scores_std,\n",
    "                         test_scores_mean + test_scores_std, alpha=0.1,\n",
    "                         color=\"g\")\n",
    "    axes[0].plot(train_sizes, train_scores_mean, 'o-', color=\"r\",\n",
    "                 label=\"Training score\")\n",
    "    axes[0].plot(train_sizes, test_scores_mean, 'o-', color=\"g\",\n",
    "                 label=\"Cross-validation score\")\n",
    "    axes[0].legend(loc=\"best\")\n",
    "\n",
    "    # Plot n_samples vs fit_times\n",
    "    axes[1].grid()\n",
    "    axes[1].plot(train_sizes, fit_times_mean, 'o-')\n",
    "    axes[1].fill_between(train_sizes, fit_times_mean - fit_times_std,\n",
    "                         fit_times_mean + fit_times_std, alpha=0.1)\n",
    "    axes[1].set_xlabel(\"Training examples\")\n",
    "    axes[1].set_ylabel(\"fit_times\")\n",
    "    axes[1].set_title(\"Scalability of the model\")\n",
    "\n",
    "    # Plot fit_time vs score\n",
    "    axes[2].grid()\n",
    "    axes[2].plot(fit_times_mean, test_scores_mean, 'o-')\n",
    "    axes[2].fill_between(fit_times_mean, test_scores_mean - test_scores_std,\n",
    "                         test_scores_mean + test_scores_std, alpha=0.1)\n",
    "    axes[2].set_xlabel(\"fit_times\")\n",
    "    axes[2].set_ylabel(\"Score\")\n",
    "    axes[2].set_title(\"Performance of the model\")\n",
    "\n",
    "    return plt"
   ]
  },
  {
   "cell_type": "code",
   "execution_count": 38,
   "metadata": {},
   "outputs": [
    {
     "data": {
      "image/png": "[encoded data removed]",
      "text/plain": [
       "<Figure size 720x1080 with 9 Axes>"
      ]
     },
     "metadata": {
      "needs_background": "light"
     },
     "output_type": "display_data"
    },
    {
     "name": "stdout",
     "output_type": "stream",
     "text": [
      "Wall time: 1min 12s\n"
     ]
    }
   ],
   "source": [
    "%%time\n",
    "fig, axes = plt.subplots(3, 3, figsize=(10, 15))\n",
    "cv = 5\n",
    "# use models tuple which already made with optimized hyper-parameters\n",
    "title = \"Learning Curves(KNN)\"\n",
    "plot_learning_curve(models[0][1], title,  scaled_X, Y, axes=axes[:,0], ylim=(0.1, 1.01), cv=cv, n_jobs=4)\n",
    "\n",
    "title = \"Learning Curves(Random Forest)\"\n",
    "plot_learning_curve(models[1][1], title,  scaled_X, Y, axes=axes[:,1], ylim=(0.1, 1.01),  cv=cv, n_jobs=4)\n",
    "\n",
    "title = \"Learning Curves(SVM)\"\n",
    "plot_learning_curve(models[2][1], title,  scaled_X, Y, axes=axes[:,2], ylim=(0.1, 1.01),  cv=cv, n_jobs=4)\n",
    "\n",
    "plt.savefig('skenario_5_learningcurve.png', dpi=300)\n",
    "plt.show()"
   ]
  },
  {
   "cell_type": "code",
   "execution_count": 39,
   "metadata": {},
   "outputs": [
    {
     "data": {
      "text/html": [
       "<div>\n",
       "<style scoped>\n",
       "    .dataframe tbody tr th:only-of-type {\n",
       "        vertical-align: middle;\n",
       "    }\n",
       "\n",
       "    .dataframe tbody tr th {\n",
       "        vertical-align: top;\n",
       "    }\n",
       "\n",
       "    .dataframe thead th {\n",
       "        text-align: right;\n",
       "    }\n",
       "</style>\n",
       "<table border=\"1\" class=\"dataframe\">\n",
       "  <thead>\n",
       "    <tr style=\"text-align: right;\">\n",
       "      <th></th>\n",
       "      <th>Facies</th>\n",
       "      <th>Formation</th>\n",
       "      <th>Well Name</th>\n",
       "      <th>Depth</th>\n",
       "      <th>GR</th>\n",
       "      <th>ILD</th>\n",
       "      <th>DeltaPHI</th>\n",
       "      <th>PHIND</th>\n",
       "      <th>PE</th>\n",
       "      <th>NM_M</th>\n",
       "      <th>...</th>\n",
       "      <th>1_PE</th>\n",
       "      <th>2_PE</th>\n",
       "      <th>3_PE</th>\n",
       "      <th>4_PE</th>\n",
       "      <th>5_PE</th>\n",
       "      <th>6_PE</th>\n",
       "      <th>7_PE</th>\n",
       "      <th>8_PE</th>\n",
       "      <th>9_PE</th>\n",
       "      <th>Facies_Labels</th>\n",
       "    </tr>\n",
       "  </thead>\n",
       "  <tbody>\n",
       "    <tr>\n",
       "      <th>2297</th>\n",
       "      <td>3</td>\n",
       "      <td>A1 SH</td>\n",
       "      <td>NEWBY</td>\n",
       "      <td>2826.0</td>\n",
       "      <td>76.34</td>\n",
       "      <td>5.236004</td>\n",
       "      <td>7.8</td>\n",
       "      <td>11.00</td>\n",
       "      <td>3.7</td>\n",
       "      <td>1</td>\n",
       "      <td>...</td>\n",
       "      <td>0.270270</td>\n",
       "      <td>1.923538</td>\n",
       "      <td>0.519875</td>\n",
       "      <td>1.308333</td>\n",
       "      <td>0.519875</td>\n",
       "      <td>13.69</td>\n",
       "      <td>0.073046</td>\n",
       "      <td>2.616666</td>\n",
       "      <td>0.382166</td>\n",
       "      <td>FSiS</td>\n",
       "    </tr>\n",
       "    <tr>\n",
       "      <th>2298</th>\n",
       "      <td>3</td>\n",
       "      <td>A1 SH</td>\n",
       "      <td>NEWBY</td>\n",
       "      <td>2826.5</td>\n",
       "      <td>83.74</td>\n",
       "      <td>4.875285</td>\n",
       "      <td>9.7</td>\n",
       "      <td>12.55</td>\n",
       "      <td>3.4</td>\n",
       "      <td>1</td>\n",
       "      <td>...</td>\n",
       "      <td>0.294118</td>\n",
       "      <td>1.843909</td>\n",
       "      <td>0.542326</td>\n",
       "      <td>1.223775</td>\n",
       "      <td>0.542326</td>\n",
       "      <td>11.56</td>\n",
       "      <td>0.086505</td>\n",
       "      <td>2.447551</td>\n",
       "      <td>0.408572</td>\n",
       "      <td>FSiS</td>\n",
       "    </tr>\n",
       "    <tr>\n",
       "      <th>2299</th>\n",
       "      <td>3</td>\n",
       "      <td>A1 SH</td>\n",
       "      <td>NEWBY</td>\n",
       "      <td>2827.0</td>\n",
       "      <td>83.19</td>\n",
       "      <td>4.613176</td>\n",
       "      <td>10.1</td>\n",
       "      <td>11.95</td>\n",
       "      <td>3.4</td>\n",
       "      <td>1</td>\n",
       "      <td>...</td>\n",
       "      <td>0.294118</td>\n",
       "      <td>1.843909</td>\n",
       "      <td>0.542326</td>\n",
       "      <td>1.223775</td>\n",
       "      <td>0.542326</td>\n",
       "      <td>11.56</td>\n",
       "      <td>0.086505</td>\n",
       "      <td>2.447551</td>\n",
       "      <td>0.408572</td>\n",
       "      <td>FSiS</td>\n",
       "    </tr>\n",
       "    <tr>\n",
       "      <th>2300</th>\n",
       "      <td>3</td>\n",
       "      <td>A1 SH</td>\n",
       "      <td>NEWBY</td>\n",
       "      <td>2827.5</td>\n",
       "      <td>80.44</td>\n",
       "      <td>4.446313</td>\n",
       "      <td>10.1</td>\n",
       "      <td>11.15</td>\n",
       "      <td>3.4</td>\n",
       "      <td>1</td>\n",
       "      <td>...</td>\n",
       "      <td>0.294118</td>\n",
       "      <td>1.843909</td>\n",
       "      <td>0.542326</td>\n",
       "      <td>1.223775</td>\n",
       "      <td>0.542326</td>\n",
       "      <td>11.56</td>\n",
       "      <td>0.086505</td>\n",
       "      <td>2.447551</td>\n",
       "      <td>0.408572</td>\n",
       "      <td>FSiS</td>\n",
       "    </tr>\n",
       "    <tr>\n",
       "      <th>2301</th>\n",
       "      <td>3</td>\n",
       "      <td>A1 SH</td>\n",
       "      <td>NEWBY</td>\n",
       "      <td>2828.0</td>\n",
       "      <td>75.42</td>\n",
       "      <td>4.446313</td>\n",
       "      <td>9.3</td>\n",
       "      <td>11.45</td>\n",
       "      <td>3.3</td>\n",
       "      <td>1</td>\n",
       "      <td>...</td>\n",
       "      <td>0.303030</td>\n",
       "      <td>1.816590</td>\n",
       "      <td>0.550482</td>\n",
       "      <td>1.193922</td>\n",
       "      <td>0.550482</td>\n",
       "      <td>10.89</td>\n",
       "      <td>0.091827</td>\n",
       "      <td>2.387845</td>\n",
       "      <td>0.418788</td>\n",
       "      <td>FSiS</td>\n",
       "    </tr>\n",
       "  </tbody>\n",
       "</table>\n",
       "<p>5 rows × 53 columns</p>\n",
       "</div>"
      ],
      "text/plain": [
       "      Facies Formation Well Name   Depth     GR       ILD  DeltaPHI  PHIND  \\\n",
       "2297       3     A1 SH     NEWBY  2826.0  76.34  5.236004       7.8  11.00   \n",
       "2298       3     A1 SH     NEWBY  2826.5  83.74  4.875285       9.7  12.55   \n",
       "2299       3     A1 SH     NEWBY  2827.0  83.19  4.613176      10.1  11.95   \n",
       "2300       3     A1 SH     NEWBY  2827.5  80.44  4.446313      10.1  11.15   \n",
       "2301       3     A1 SH     NEWBY  2828.0  75.42  4.446313       9.3  11.45   \n",
       "\n",
       "       PE  NM_M  ...      1_PE      2_PE      3_PE      4_PE      5_PE   6_PE  \\\n",
       "2297  3.7     1  ...  0.270270  1.923538  0.519875  1.308333  0.519875  13.69   \n",
       "2298  3.4     1  ...  0.294118  1.843909  0.542326  1.223775  0.542326  11.56   \n",
       "2299  3.4     1  ...  0.294118  1.843909  0.542326  1.223775  0.542326  11.56   \n",
       "2300  3.4     1  ...  0.294118  1.843909  0.542326  1.223775  0.542326  11.56   \n",
       "2301  3.3     1  ...  0.303030  1.816590  0.550482  1.193922  0.550482  10.89   \n",
       "\n",
       "          7_PE      8_PE      9_PE  Facies_Labels  \n",
       "2297  0.073046  2.616666  0.382166           FSiS  \n",
       "2298  0.086505  2.447551  0.408572           FSiS  \n",
       "2299  0.086505  2.447551  0.408572           FSiS  \n",
       "2300  0.086505  2.447551  0.408572           FSiS  \n",
       "2301  0.091827  2.387845  0.418788           FSiS  \n",
       "\n",
       "[5 rows x 53 columns]"
      ]
     },
     "execution_count": 39,
     "metadata": {},
     "output_type": "execute_result"
    }
   ],
   "source": [
    "blind.head()"
   ]
  },
  {
   "cell_type": "code",
   "execution_count": 40,
   "metadata": {},
   "outputs": [],
   "source": [
    "# Data Input\n",
    "X_blind = blind[['ILD', 'DeltaPHI', 'PHIND', 'PE', 'NM_M',\n",
    "                 '3_GR',\n",
    "                 '2_ILD',\n",
    "                 '3_PHIND']]\n",
    "\n",
    "# Data Output\n",
    "Y_blind = blind['Facies']"
   ]
  },
  {
   "cell_type": "code",
   "execution_count": 41,
   "metadata": {},
   "outputs": [],
   "source": [
    "from sklearn.impute import SimpleImputer\n",
    "\n",
    "imp = SimpleImputer(missing_values=np.nan, strategy='mean')\n",
    "scaled_X_blind = imp.fit_transform(X_blind)"
   ]
  },
  {
   "cell_type": "code",
   "execution_count": 42,
   "metadata": {},
   "outputs": [],
   "source": [
    "from sklearn.preprocessing import StandardScaler\n",
    "\n",
    "# Menskalakan ke variansi (Standardisation)\n",
    "sc = StandardScaler()\n",
    "scaled_X_blind = sc.fit_transform(X_blind)"
   ]
  },
  {
   "cell_type": "code",
   "execution_count": 43,
   "metadata": {},
   "outputs": [],
   "source": [
    "# from sklearn.preprocessing import MinMaxScaler\n",
    "\n",
    "# # Menskalakan nilai data ke dalam suatu range (Normalisation)\n",
    "# mc = MinMaxScaler(feature_range=(0, 1))\n",
    "# scaled_X_blind = mc.fit_transform(X_blind)"
   ]
  },
  {
   "cell_type": "code",
   "execution_count": 44,
   "metadata": {},
   "outputs": [
    {
     "data": {
      "text/html": [
       "<div>\n",
       "<style scoped>\n",
       "    .dataframe tbody tr th:only-of-type {\n",
       "        vertical-align: middle;\n",
       "    }\n",
       "\n",
       "    .dataframe tbody tr th {\n",
       "        vertical-align: top;\n",
       "    }\n",
       "\n",
       "    .dataframe thead th {\n",
       "        text-align: right;\n",
       "    }\n",
       "</style>\n",
       "<table border=\"1\" class=\"dataframe\">\n",
       "  <thead>\n",
       "    <tr style=\"text-align: right;\">\n",
       "      <th></th>\n",
       "      <th>ILD</th>\n",
       "      <th>DeltaPHI</th>\n",
       "      <th>PHIND</th>\n",
       "      <th>PE</th>\n",
       "      <th>NM_M</th>\n",
       "      <th>3_GR</th>\n",
       "      <th>2_ILD</th>\n",
       "      <th>3_PHIND</th>\n",
       "    </tr>\n",
       "  </thead>\n",
       "  <tbody>\n",
       "    <tr>\n",
       "      <th>count</th>\n",
       "      <td>4.630000e+02</td>\n",
       "      <td>4.630000e+02</td>\n",
       "      <td>4.630000e+02</td>\n",
       "      <td>4.630000e+02</td>\n",
       "      <td>4.630000e+02</td>\n",
       "      <td>4.630000e+02</td>\n",
       "      <td>4.630000e+02</td>\n",
       "      <td>4.630000e+02</td>\n",
       "    </tr>\n",
       "    <tr>\n",
       "      <th>mean</th>\n",
       "      <td>-1.073056e-16</td>\n",
       "      <td>4.455579e-17</td>\n",
       "      <td>1.350012e-16</td>\n",
       "      <td>1.096735e-15</td>\n",
       "      <td>4.004476e-16</td>\n",
       "      <td>-3.663976e-16</td>\n",
       "      <td>-1.112021e-16</td>\n",
       "      <td>-1.980657e-16</td>\n",
       "    </tr>\n",
       "    <tr>\n",
       "      <th>std</th>\n",
       "      <td>1.001082e+00</td>\n",
       "      <td>1.001082e+00</td>\n",
       "      <td>1.001082e+00</td>\n",
       "      <td>1.001082e+00</td>\n",
       "      <td>1.001082e+00</td>\n",
       "      <td>1.001082e+00</td>\n",
       "      <td>1.001082e+00</td>\n",
       "      <td>1.001082e+00</td>\n",
       "    </tr>\n",
       "    <tr>\n",
       "      <th>min</th>\n",
       "      <td>-1.334873e+00</td>\n",
       "      <td>-2.992990e+00</td>\n",
       "      <td>-1.819766e+00</td>\n",
       "      <td>-1.852867e+00</td>\n",
       "      <td>-1.265355e+00</td>\n",
       "      <td>-1.652601e+00</td>\n",
       "      <td>-1.621757e+00</td>\n",
       "      <td>-1.807986e+00</td>\n",
       "    </tr>\n",
       "    <tr>\n",
       "      <th>25%</th>\n",
       "      <td>-6.763028e-01</td>\n",
       "      <td>-5.890175e-01</td>\n",
       "      <td>-7.367318e-01</td>\n",
       "      <td>-8.994579e-01</td>\n",
       "      <td>-1.265355e+00</td>\n",
       "      <td>-6.258802e-01</td>\n",
       "      <td>-6.793213e-01</td>\n",
       "      <td>-6.981850e-01</td>\n",
       "    </tr>\n",
       "    <tr>\n",
       "      <th>50%</th>\n",
       "      <td>-2.653955e-01</td>\n",
       "      <td>-1.568512e-02</td>\n",
       "      <td>-1.317941e-01</td>\n",
       "      <td>-1.367308e-01</td>\n",
       "      <td>7.902920e-01</td>\n",
       "      <td>-3.335384e-01</td>\n",
       "      <td>-1.879928e-01</td>\n",
       "      <td>-1.891458e-01</td>\n",
       "    </tr>\n",
       "    <tr>\n",
       "      <th>75%</th>\n",
       "      <td>4.255620e-01</td>\n",
       "      <td>6.179981e-01</td>\n",
       "      <td>5.512002e-01</td>\n",
       "      <td>6.259963e-01</td>\n",
       "      <td>7.902920e-01</td>\n",
       "      <td>5.974810e-01</td>\n",
       "      <td>5.370412e-01</td>\n",
       "      <td>5.226166e-01</td>\n",
       "    </tr>\n",
       "    <tr>\n",
       "      <th>max</th>\n",
       "      <td>3.567031e+00</td>\n",
       "      <td>2.197177e+00</td>\n",
       "      <td>3.907629e+00</td>\n",
       "      <td>2.342132e+00</td>\n",
       "      <td>7.902920e-01</td>\n",
       "      <td>3.567454e+00</td>\n",
       "      <td>3.027438e+00</td>\n",
       "      <td>4.457150e+00</td>\n",
       "    </tr>\n",
       "  </tbody>\n",
       "</table>\n",
       "</div>"
      ],
      "text/plain": [
       "                ILD      DeltaPHI         PHIND            PE          NM_M  \\\n",
       "count  4.630000e+02  4.630000e+02  4.630000e+02  4.630000e+02  4.630000e+02   \n",
       "mean  -1.073056e-16  4.455579e-17  1.350012e-16  1.096735e-15  4.004476e-16   \n",
       "std    1.001082e+00  1.001082e+00  1.001082e+00  1.001082e+00  1.001082e+00   \n",
       "min   -1.334873e+00 -2.992990e+00 -1.819766e+00 -1.852867e+00 -1.265355e+00   \n",
       "25%   -6.763028e-01 -5.890175e-01 -7.367318e-01 -8.994579e-01 -1.265355e+00   \n",
       "50%   -2.653955e-01 -1.568512e-02 -1.317941e-01 -1.367308e-01  7.902920e-01   \n",
       "75%    4.255620e-01  6.179981e-01  5.512002e-01  6.259963e-01  7.902920e-01   \n",
       "max    3.567031e+00  2.197177e+00  3.907629e+00  2.342132e+00  7.902920e-01   \n",
       "\n",
       "               3_GR         2_ILD       3_PHIND  \n",
       "count  4.630000e+02  4.630000e+02  4.630000e+02  \n",
       "mean  -3.663976e-16 -1.112021e-16 -1.980657e-16  \n",
       "std    1.001082e+00  1.001082e+00  1.001082e+00  \n",
       "min   -1.652601e+00 -1.621757e+00 -1.807986e+00  \n",
       "25%   -6.258802e-01 -6.793213e-01 -6.981850e-01  \n",
       "50%   -3.335384e-01 -1.879928e-01 -1.891458e-01  \n",
       "75%    5.974810e-01  5.370412e-01  5.226166e-01  \n",
       "max    3.567454e+00  3.027438e+00  4.457150e+00  "
      ]
     },
     "execution_count": 44,
     "metadata": {},
     "output_type": "execute_result"
    }
   ],
   "source": [
    "scaled_X_blind = pd.DataFrame(scaled_X_blind, columns=X.columns)\n",
    "scaled_X_blind.describe()"
   ]
  },
  {
   "cell_type": "code",
   "execution_count": 45,
   "metadata": {},
   "outputs": [],
   "source": [
    "# define Classifiers with hyper params\n",
    "\n",
    "knn = KNeighborsClassifier(n_neighbors=10, weights='distance')\n",
    "rtree = RandomForestClassifier(criterion='gini', max_depth=15, n_estimators=500)\n",
    "svm = SVC(C=10, gamma=1, kernel='rbf')"
   ]
  },
  {
   "cell_type": "code",
   "execution_count": 46,
   "metadata": {},
   "outputs": [
    {
     "name": "stderr",
     "output_type": "stream",
     "text": [
      "<ipython-input-46-90c0c00c53e2>:5: SettingWithCopyWarning: \n",
      "A value is trying to be set on a copy of a slice from a DataFrame.\n",
      "Try using .loc[row_indexer,col_indexer] = value instead\n",
      "\n",
      "See the caveats in the documentation: https://pandas.pydata.org/pandas-docs/stable/user_guide/indexing.html#returning-a-view-versus-a-copy\n",
      "  blind['KNN_Prediction'] = y_hat_knn   #add to df\n",
      "<ipython-input-46-90c0c00c53e2>:10: SettingWithCopyWarning: \n",
      "A value is trying to be set on a copy of a slice from a DataFrame.\n",
      "Try using .loc[row_indexer,col_indexer] = value instead\n",
      "\n",
      "See the caveats in the documentation: https://pandas.pydata.org/pandas-docs/stable/user_guide/indexing.html#returning-a-view-versus-a-copy\n",
      "  blind['RF_Prediction'] = y_hat_rtree   #add to df\n",
      "<ipython-input-46-90c0c00c53e2>:15: SettingWithCopyWarning: \n",
      "A value is trying to be set on a copy of a slice from a DataFrame.\n",
      "Try using .loc[row_indexer,col_indexer] = value instead\n",
      "\n",
      "See the caveats in the documentation: https://pandas.pydata.org/pandas-docs/stable/user_guide/indexing.html#returning-a-view-versus-a-copy\n",
      "  blind['SVM_Prediction'] = y_hat_svm   #add to df\n"
     ]
    }
   ],
   "source": [
    "from sklearn.metrics import accuracy_score\n",
    "\n",
    "knn.fit(scaled_X,Y)\n",
    "y_hat_knn = knn.predict(scaled_X_blind)\n",
    "blind['KNN_Prediction'] = y_hat_knn   #add to df\n",
    "acc_knn = (accuracy_score(Y_blind, y_hat_knn ))\n",
    "\n",
    "rtree.fit(scaled_X,Y)\n",
    "y_hat_rtree = rtree.predict(scaled_X_blind)\n",
    "blind['RF_Prediction'] = y_hat_rtree   #add to df\n",
    "acc_rtree = (accuracy_score(Y_blind, y_hat_rtree ))\n",
    "\n",
    "svm.fit(scaled_X,Y)\n",
    "y_hat_svm = svm.predict(scaled_X_blind)\n",
    "blind['SVM_Prediction'] = y_hat_svm   #add to df\n",
    "acc_svm = (accuracy_score(Y_blind, y_hat_svm ))"
   ]
  },
  {
   "cell_type": "code",
   "execution_count": 47,
   "metadata": {},
   "outputs": [
    {
     "data": {
      "text/html": [
       "<div>\n",
       "<style scoped>\n",
       "    .dataframe tbody tr th:only-of-type {\n",
       "        vertical-align: middle;\n",
       "    }\n",
       "\n",
       "    .dataframe tbody tr th {\n",
       "        vertical-align: top;\n",
       "    }\n",
       "\n",
       "    .dataframe thead th {\n",
       "        text-align: right;\n",
       "    }\n",
       "</style>\n",
       "<table border=\"1\" class=\"dataframe\">\n",
       "  <thead>\n",
       "    <tr style=\"text-align: right;\">\n",
       "      <th></th>\n",
       "      <th>model</th>\n",
       "      <th>test_score</th>\n",
       "      <th>blind_score</th>\n",
       "    </tr>\n",
       "  </thead>\n",
       "  <tbody>\n",
       "    <tr>\n",
       "      <th>0</th>\n",
       "      <td>knn</td>\n",
       "      <td>0.69</td>\n",
       "      <td>0.48</td>\n",
       "    </tr>\n",
       "    <tr>\n",
       "      <th>1</th>\n",
       "      <td>rtree</td>\n",
       "      <td>0.70</td>\n",
       "      <td>0.50</td>\n",
       "    </tr>\n",
       "    <tr>\n",
       "      <th>2</th>\n",
       "      <td>svm</td>\n",
       "      <td>0.70</td>\n",
       "      <td>0.38</td>\n",
       "    </tr>\n",
       "  </tbody>\n",
       "</table>\n",
       "</div>"
      ],
      "text/plain": [
       "   model  test_score  blind_score\n",
       "0    knn        0.69         0.48\n",
       "1  rtree        0.70         0.50\n",
       "2    svm        0.70         0.38"
      ]
     },
     "execution_count": 47,
     "metadata": {},
     "output_type": "execute_result"
    }
   ],
   "source": [
    "#create dataframe to compare accuracy results\n",
    "d = { 'model':['knn', 'rtree', 'svm'],\n",
    "      'test_score':[test_acc[0], test_acc[1],test_acc[2]],\n",
    "      'blind_score': [acc_knn, acc_rtree, acc_svm]}\n",
    "\n",
    "df_comp = pd.DataFrame(d)\n",
    "round(df_comp,2)"
   ]
  },
  {
   "cell_type": "code",
   "execution_count": 51,
   "metadata": {},
   "outputs": [],
   "source": [
    "import matplotlib.colors as colors\n",
    "def compare_all_facies(logs, Pred1, Pred2, Pred3, facies_colors):\n",
    "    facies_colors = ['#F4D03F', '#F5B041','#DC7633', '#A569BD','#6E2C00','#1B4F72','#2E86C1', '#AED6F1', '#196F3D']\n",
    "    #make sure logs are sorted by depth\n",
    "    logs = logs.sort_values(by='Depth')\n",
    "    cmap_facies = colors.ListedColormap(facies_colors[0:len(facies_colors)], 'indexed')\n",
    "    ztop=logs.Depth.min(); zbot=logs.Depth.max()\n",
    "    \n",
    "    cluster1 = np.repeat(np.expand_dims(logs['Facies'].values,1), 100, 1)\n",
    "    cluster2 = np.repeat(np.expand_dims(logs[Pred1].values,1), 100, 1)\n",
    "    cluster3 = np.repeat(np.expand_dims(logs[Pred2].values,1), 100, 1)\n",
    "    cluster4 = np.repeat(np.expand_dims(logs[Pred3].values,1), 100, 1)\n",
    "    \n",
    "   \n",
    "    f, ax = plt.subplots(nrows=1, ncols=4, figsize=(15, 12))\n",
    "\n",
    "    im1 = ax[0].imshow(cluster1, interpolation='none', aspect='auto',\n",
    "                       cmap=cmap_facies,vmin=1,vmax=9)\n",
    "    im2 = ax[1].imshow(cluster2, interpolation='none', aspect='auto',\n",
    "                       cmap=cmap_facies,vmin=1,vmax=9)\n",
    "    im3 = ax[2].imshow(cluster3, interpolation='none', aspect='auto',\n",
    "                       cmap=cmap_facies,vmin=1,vmax=9)\n",
    "    im4 = ax[3].imshow(cluster4, interpolation='none', aspect='auto',\n",
    "                       cmap=cmap_facies,vmin=1,vmax=9)\n",
    "    \n",
    "    \n",
    "    \n",
    "    divider = make_axes_locatable(ax[3])\n",
    "    cax = divider.append_axes(\"right\", size=\"10%\", pad=0.05)\n",
    "    cbar=plt.colorbar(im4, cax=cax)\n",
    "    cbar.set_label((15*' ').join([' SS ', 'CSiS', 'FSiS','SiSh', ' MS ', ' WS ', ' D  ', ' PS ', ' BS ']))\n",
    "    cbar.set_ticks(range(0,1)); cbar.set_ticklabels('')\n",
    "    \n",
    "    for i in range(len(ax)-4):\n",
    "        ax[i].set_ylim(ztop,zbot)\n",
    "        ax[i].invert_yaxis()\n",
    "        ax[i].grid()\n",
    "        ax[i].locator_params(axis='x', nbins=2)\n",
    "    \n",
    "    ax[0].set_xlabel('True_Facies'); ax[1].set_xlabel(Pred1); ax[2].set_xlabel(Pred2)\n",
    "    ax[3].set_xlabel(Pred3)\n",
    "\n",
    "    \n",
    "    #ax[0].set_yticklabels([]) ;\n",
    "    ax[1].set_yticklabels([]); ax[2].set_yticklabels([]); ax[3].set_yticklabels([]) \n",
    "    \n",
    "    \n",
    "    ax[0].set_xticklabels([]); ax[1].set_xticklabels([]); ax[2].set_xticklabels([])\n",
    "    ax[3].set_xticklabels([])\n",
    "    \n",
    "\n",
    "    f.suptitle('Various model predictions in well: %s'%logs.iloc[0]['Well Name'], fontsize=14,y=0.94)"
   ]
  },
  {
   "cell_type": "code",
   "execution_count": 52,
   "metadata": {},
   "outputs": [
    {
     "data": {
      "image/png": "[encoded data removed]",
      "text/plain": [
       "<Figure size 1080x864 with 5 Axes>"
      ]
     },
     "metadata": {
      "needs_background": "light"
     },
     "output_type": "display_data"
    }
   ],
   "source": [
    "compare_all_facies(blind, 'KNN_Prediction', 'RF_Prediction', 'SVM_Prediction', facies_colors)\n",
    "\n",
    "plt.savefig('skenario_5_result.png', dpi=300)\n",
    "plt.show()"
   ]
  },
  {
   "cell_type": "code",
   "execution_count": 53,
   "metadata": {},
   "outputs": [],
   "source": [
    "from sklearn.metrics import confusion_matrix\n",
    "import itertools\n",
    "\n",
    "# define function to implement confusion matrix with normalization capability\n",
    "\n",
    "def plot_confusion_matrix(cm, classes, normalize=False,\n",
    "                          title='Confusion matrix',\n",
    "                          cmap=plt.cm.Reds):\n",
    "\n",
    "    if normalize:\n",
    "        cm = cm.astype('float') / cm.sum(axis=1)[:, np.newaxis]\n",
    "        print(\"Normalized confusion matrix\")\n",
    "    else:\n",
    "        print('Confusion matrix, without normalization')\n",
    "\n",
    "    plt.imshow(cm, interpolation='nearest', cmap=cmap)\n",
    "    plt.title(title)\n",
    "    plt.colorbar()\n",
    "    tick_marks = np.arange(len(classes))\n",
    "    plt.xticks(tick_marks, classes, rotation=90)\n",
    "    plt.yticks(tick_marks, classes)\n",
    "\n",
    "    fmt = '.2f' if normalize else 'd'\n",
    "    thresh = cm.max() / 2.\n",
    "    for i, j in itertools.product(range(cm.shape[0]), range(cm.shape[1])):\n",
    "        plt.text(j, i, format(cm[i, j], fmt),\n",
    "                 horizontalalignment=\"center\",\n",
    "                 color=\"white\" if cm[i, j] > thresh else \"black\")\n",
    "\n",
    "    plt.tight_layout()\n",
    "    plt.ylabel('True label')\n",
    "    plt.xlabel('Predicted label')\n",
    "#     plt.savefig('conf20', dpi=300)"
   ]
  },
  {
   "cell_type": "code",
   "execution_count": 57,
   "metadata": {},
   "outputs": [
    {
     "name": "stdout",
     "output_type": "stream",
     "text": [
      "Confusion matrix, without normalization\n"
     ]
    },
    {
     "data": {
      "image/png": "[encoded data removed]",
      "text/plain": [
       "<Figure size 532.8x432 with 2 Axes>"
      ]
     },
     "metadata": {
      "needs_background": "light"
     },
     "output_type": "display_data"
    },
    {
     "name": "stdout",
     "output_type": "stream",
     "text": [
      "Wall time: 2.23 s\n"
     ]
    }
   ],
   "source": [
    "%%time\n",
    "# create KNN model with optimom hyper-parameters\n",
    "model_log=KNeighborsClassifier(n_neighbors=10, weights='distance')\n",
    "model_log.fit(scaled_X,Y)\n",
    "# predict test labels\n",
    "y_pred_log = model_log.predict(scaled_X_blind)\n",
    "\n",
    "#calculate confusion matrix\n",
    "cnf_log = confusion_matrix(Y_blind, y_pred_log)\n",
    "\n",
    "#Plot confusion matrix for KNN\n",
    "fig = plt.figure()\n",
    "fig.set_size_inches(7.4, 6, forward=False)\n",
    "plot_confusion_matrix(cnf_log, classes=np.asarray(facies_labels),\n",
    "                      title='Confusion matrix (KNN) 48%')\n",
    "\n",
    "plt.savefig('skenario_5_KNN.png', dpi=300)\n",
    "plt.show()"
   ]
  },
  {
   "cell_type": "code",
   "execution_count": 58,
   "metadata": {},
   "outputs": [
    {
     "name": "stdout",
     "output_type": "stream",
     "text": [
      "Confusion matrix, without normalization\n"
     ]
    },
    {
     "data": {
      "image/png": "[encoded data removed]",
      "text/plain": [
       "<Figure size 532.8x432 with 2 Axes>"
      ]
     },
     "metadata": {
      "needs_background": "light"
     },
     "output_type": "display_data"
    },
    {
     "name": "stdout",
     "output_type": "stream",
     "text": [
      "Wall time: 8.5 s\n"
     ]
    }
   ],
   "source": [
    "%%time\n",
    "# create Random Forest model with optimom hyper-parameters\n",
    "model_log=RandomForestClassifier(criterion='gini', max_depth=15, n_estimators=500)\n",
    "model_log.fit(scaled_X,Y)\n",
    "# predict test labels\n",
    "y_pred_log = model_log.predict(scaled_X_blind)\n",
    "\n",
    "#calculate confusion matrix\n",
    "cnf_log = confusion_matrix(Y_blind, y_pred_log)\n",
    "\n",
    "#Plot confusion matrix for RandomForest classifier\n",
    "fig = plt.figure()\n",
    "fig.set_size_inches(7.4, 6, forward=False)\n",
    "plot_confusion_matrix(cnf_log, classes=np.asarray(facies_labels),\n",
    "                      title='Confusion matrix (Random Forest) 50%')\n",
    "\n",
    "plt.savefig('skenario_5_RF.png', dpi=300)\n",
    "plt.show()"
   ]
  },
  {
   "cell_type": "code",
   "execution_count": 59,
   "metadata": {},
   "outputs": [
    {
     "name": "stdout",
     "output_type": "stream",
     "text": [
      "Confusion matrix, without normalization\n"
     ]
    },
    {
     "data": {
      "image/png": "[encoded data removed]",
      "text/plain": [
       "<Figure size 532.8x432 with 2 Axes>"
      ]
     },
     "metadata": {
      "needs_background": "light"
     },
     "output_type": "display_data"
    },
    {
     "name": "stdout",
     "output_type": "stream",
     "text": [
      "Wall time: 2.94 s\n"
     ]
    }
   ],
   "source": [
    "%%time\n",
    "# create SVM model with optimom hyper-parameters\n",
    "model_log=SVC(C=10, gamma=1, kernel='rbf')\n",
    "model_log.fit(scaled_X,Y)\n",
    "# predict test labels\n",
    "y_pred_log = model_log.predict(scaled_X_blind)\n",
    "\n",
    "#calculate confusion matrix\n",
    "cnf_log = confusion_matrix(Y_blind, y_pred_log)\n",
    "\n",
    "#Plot confusion matrix for SVM\n",
    "fig = plt.figure()\n",
    "fig.set_size_inches(7.4, 6, forward=False)\n",
    "plot_confusion_matrix(cnf_log, classes=np.asarray(facies_labels),\n",
    "                      title='Confusion matrix (SVM) 38%')\n",
    "\n",
    "plt.savefig('skenario_5_SVM.png', dpi=300)\n",
    "plt.show()"
   ]
  },
  {
   "cell_type": "code",
   "execution_count": null,
   "metadata": {},
   "outputs": [],
   "source": []
  }
 ],
 "metadata": {
  "kernelspec": {
   "display_name": "Python 3",
   "language": "python",
   "name": "python3"
  },
  "language_info": {
   "codemirror_mode": {
    "name": "ipython",
    "version": 3
   },
   "file_extension": ".py",
   "mimetype": "text/x-python",
   "name": "python",
   "nbconvert_exporter": "python",
   "pygments_lexer": "ipython3",
   "version": "3.8.3"
  }
 },
 "nbformat": 4,
 "nbformat_minor": 4
}
